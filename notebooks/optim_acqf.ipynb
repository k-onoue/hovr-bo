{
 "cells": [
  {
   "cell_type": "code",
   "execution_count": null,
   "metadata": {},
   "outputs": [
    {
     "name": "stderr",
     "output_type": "stream",
     "text": [
      "/var/folders/_b/b62kq0490fn2ptq7m4mbp8yr0000gp/T/ipykernel_47804/84968593.py:11: InputDataWarning: The model inputs are of type torch.float32. It is strongly recommended to use double precision in BoTorch, as this improves both precision and stability and can help avoid numerical errors. See https://github.com/pytorch/botorch/discussions/1444\n",
      "  gp = SingleTaskGP(train_X, train_Y)\n"
     ]
    }
   ],
   "source": [
    "from botorch.acquisition.logei import qLogExpectedImprovement\n",
    "from botorch.models import SingleTaskGP\n",
    "from botorch.optim import optimize_acqf\n",
    "from gpytorch.kernels import RBFKernel\n",
    "import torch\n",
    "from botorch.test_functions import Ackley\n",
    "\n",
    "# モデル定義\n",
    "train_X = torch.rand(200, 5)  # 入力データ\n",
    "train_Y = Ackley()(train_X).reshape(-1, 1)  # 出力データ\n",
    "gp = SingleTaskGP(train_X, train_Y)\n",
    "\n",
    "\n",
    "\n",
    "acq_func = qLogExpectedImprovement(model=gp, best_f=train_Y.max())\n",
    "\n",
    "# 最適化設定\n",
    "bounds = torch.tensor([[0.0, 0, 0, 0, 0], [1.0, 1, 1, 1, 1]])\n",
    "candidates, acq_values = optimize_acqf(\n",
    "    acq_function=acq_func,\n",
    "    bounds=bounds,\n",
    "    q=3,\n",
    "    num_restarts=10,\n",
    "    raw_samples=512,\n",
    ")\n"
   ]
  },
  {
   "cell_type": "code",
   "execution_count": 20,
   "metadata": {},
   "outputs": [
    {
     "data": {
      "text/plain": [
       "tensor([[0.6348, 0.6510, 0.6423, 1.0000, 1.0000],\n",
       "        [1.0000, 1.0000, 0.7615, 1.0000, 1.0000],\n",
       "        [0.5103, 0.7461, 0.7157, 1.0000, 0.6716]])"
      ]
     },
     "execution_count": 20,
     "metadata": {},
     "output_type": "execute_result"
    }
   ],
   "source": [
    "candidates"
   ]
  },
  {
   "cell_type": "code",
   "execution_count": 21,
   "metadata": {},
   "outputs": [],
   "source": [
    "train_X = torch.rand(20, 5)  # 入力データ\n",
    "train_Y = Ackley()(train_X)  # 出力データ"
   ]
  },
  {
   "cell_type": "code",
   "execution_count": 22,
   "metadata": {},
   "outputs": [
    {
     "data": {
      "text/plain": [
       "(torch.Size([20, 5]), torch.Size([20]))"
      ]
     },
     "execution_count": 22,
     "metadata": {},
     "output_type": "execute_result"
    }
   ],
   "source": [
    "train_X.shape, train_Y.shape"
   ]
  },
  {
   "cell_type": "code",
   "execution_count": 24,
   "metadata": {},
   "outputs": [
    {
     "name": "stderr",
     "output_type": "stream",
     "text": [
      "/var/folders/_b/b62kq0490fn2ptq7m4mbp8yr0000gp/T/ipykernel_47804/1685043.py:14: InputDataWarning: The model inputs are of type torch.float32. It is strongly recommended to use double precision in BoTorch, as this improves both precision and stability and can help avoid numerical errors. See https://github.com/pytorch/botorch/discussions/1444\n",
      "  gp = SingleTaskGP(train_X, train_Y)\n",
      "/Users/keisukeonoue/ws/hovr-bo/.venv_hovr/lib/python3.10/site-packages/botorch/optim/optimize.py:568: RuntimeWarning: Optimization failed in `gen_candidates_scipy` with the following warning(s):\n",
      "[OptimizationWarning('Optimization failed within `scipy.optimize.minimize` with status 2 and message ABNORMAL_TERMINATION_IN_LNSRCH.')]\n",
      "Trying again with a new set of initial conditions.\n",
      "  return _optimize_acqf_batch(opt_inputs=opt_inputs)\n"
     ]
    },
    {
     "name": "stdout",
     "output_type": "stream",
     "text": [
      "Optimized Candidates: tensor([[0.3160, 0.3574, 0.0224, 0.1143, 0.2853],\n",
      "        [0.9262, 0.6220, 1.0000, 0.6674, 0.5058],\n",
      "        [0.6019, 0.6784, 0.6406, 1.0000, 1.0000]])\n",
      "Acquisition Values: tensor(-1.9793)\n"
     ]
    }
   ],
   "source": [
    "from botorch.acquisition.logei import qLogExpectedImprovement\n",
    "from botorch.models import SingleTaskGP\n",
    "from botorch.optim import optimize_acqf\n",
    "from botorch.fit import fit_gpytorch_mll\n",
    "from gpytorch.mlls import ExactMarginalLogLikelihood\n",
    "from botorch.test_functions import Ackley\n",
    "import torch\n",
    "\n",
    "# Define training data\n",
    "train_X = torch.rand(500, 5)  # 200 samples, 5-dimensional input\n",
    "train_Y = Ackley()(train_X).reshape(-1, 1)  # Ackley function output\n",
    "\n",
    "# Define GP model\n",
    "gp = SingleTaskGP(train_X, train_Y)\n",
    "mll = ExactMarginalLogLikelihood(gp.likelihood, gp)\n",
    "\n",
    "# Optimize the GP hyperparameters\n",
    "fit_gpytorch_mll(mll)  # This automatically optimizes the model\n",
    "\n",
    "# Acquisition function definition\n",
    "acq_func = qLogExpectedImprovement(model=gp, best_f=train_Y.max())\n",
    "\n",
    "# Optimization settings\n",
    "bounds = torch.tensor([[0.0, 0, 0, 0, 0], [1.0, 1, 1, 1, 1]])\n",
    "candidates, acq_values = optimize_acqf(\n",
    "    acq_function=acq_func,\n",
    "    bounds=bounds,\n",
    "    q=3,\n",
    "    num_restarts=10,\n",
    "    raw_samples=512,\n",
    ")\n",
    "\n",
    "print(\"Optimized Candidates:\", candidates)\n",
    "print(\"Acquisition Values:\", acq_values)\n"
   ]
  }
 ],
 "metadata": {
  "kernelspec": {
   "display_name": ".venv_hovr",
   "language": "python",
   "name": "python3"
  },
  "language_info": {
   "codemirror_mode": {
    "name": "ipython",
    "version": 3
   },
   "file_extension": ".py",
   "mimetype": "text/x-python",
   "name": "python",
   "nbconvert_exporter": "python",
   "pygments_lexer": "ipython3",
   "version": "3.10.15"
  }
 },
 "nbformat": 4,
 "nbformat_minor": 2
}
